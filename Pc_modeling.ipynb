{
  "nbformat": 4,
  "nbformat_minor": 0,
  "metadata": {
    "colab": {
      "name": "Копия блокнота \"Task_2_Pc.ipynb\"",
      "provenance": [],
      "collapsed_sections": []
    },
    "kernelspec": {
      "name": "python3",
      "display_name": "Python 3"
    },
    "language_info": {
      "name": "python"
    }
  },
  "cells": [
    {
      "cell_type": "markdown",
      "metadata": {
        "id": "TmkGbtCtRCel"
      },
      "source": [
        "# <div align = \"center\"> Определение параметров модели Брукса-Кори по экспериментальным данным."
      ]
    },
    {
      "cell_type": "code",
      "metadata": {
        "id": "0O7FRVtLTC_O"
      },
      "source": [
        "from google.colab import drive\n",
        "drive.mount('/MD')"
      ],
      "execution_count": null,
      "outputs": []
    },
    {
      "cell_type": "markdown",
      "metadata": {
        "id": "ZadiGgj2TxTM"
      },
      "source": [
        "## Блок импорта необходимых библиотек"
      ]
    },
    {
      "cell_type": "code",
      "metadata": {
        "id": "IC3QVEbZT4OR"
      },
      "source": [
        "import pandas as pd\n",
        "import numpy as np\n",
        "import matplotlib.pyplot as plt\n",
        "from scipy.interpolate import CubicSpline"
      ],
      "execution_count": null,
      "outputs": []
    },
    {
      "cell_type": "code",
      "metadata": {
        "id": "ILoAB29sxTMo"
      },
      "source": [
        "from scipy import interpolate\n",
        "from scipy.misc import derivative"
      ],
      "execution_count": null,
      "outputs": []
    },
    {
      "cell_type": "code",
      "metadata": {
        "id": "ep_8io15o98g"
      },
      "source": [
        "from scipy.optimize import minimize"
      ],
      "execution_count": null,
      "outputs": []
    },
    {
      "cell_type": "markdown",
      "metadata": {
        "id": "L7LUIT0Lo-RH"
      },
      "source": [
        "## Загрузим данные"
      ]
    },
    {
      "cell_type": "code",
      "metadata": {
        "id": "zlPoTRYBUR8o"
      },
      "source": [
        "init_data = pd.read_excel('/MD/MyDrive/task_data.xlsx')\n",
        "init_data"
      ],
      "execution_count": null,
      "outputs": []
    },
    {
      "cell_type": "markdown",
      "metadata": {
        "id": "57ieq5c1YKZa"
      },
      "source": [
        "## Проанализируем данные. Для наглядности рассмотрим первые 60 строчек таблицы."
      ]
    },
    {
      "cell_type": "code",
      "metadata": {
        "id": "6LoX_ktIWl9V"
      },
      "source": [
        "init_data.head(60)"
      ],
      "execution_count": null,
      "outputs": []
    },
    {
      "cell_type": "markdown",
      "metadata": {
        "id": "4-AYtsqfZcB9"
      },
      "source": [
        "## Ограничимся целевыми атрибутами: Скважина; Лабораторный номер образца; Водонасыщенность; Капиллярное давление"
      ]
    },
    {
      "cell_type": "code",
      "metadata": {
        "colab": {
          "base_uri": "https://localhost:8080/"
        },
        "id": "8mOFawCHdKNo",
        "outputId": "533a44ef-9233-45cd-de35-f0b90131c3b2"
      },
      "source": [
        "init_data.columns"
      ],
      "execution_count": null,
      "outputs": [
        {
          "output_type": "execute_result",
          "data": {
            "text/plain": [
              "Index(['Скважина', 'Стратиграфическая единица', 'Лабораторный номер образца',\n",
              "       'Метод исследования', 'Интервал отбора, м', 'Unnamed: 5',\n",
              "       'Место взятия, м', 'Литологическое описание', 'Пористость, % ',\n",
              "       'Проницаемость, мД', 'Водонасыщенность, %',\n",
              "       'Капиллярное давление, МПа'],\n",
              "      dtype='object')"
            ]
          },
          "metadata": {
            "tags": []
          },
          "execution_count": 7
        }
      ]
    },
    {
      "cell_type": "code",
      "metadata": {
        "id": "nUL-GOeicd9V"
      },
      "source": [
        "prep1_data = init_data[['Скважина', 'Лабораторный номер образца', 'Водонасыщенность, %', 'Капиллярное давление, МПа']]"
      ],
      "execution_count": null,
      "outputs": []
    },
    {
      "cell_type": "code",
      "metadata": {
        "colab": {
          "base_uri": "https://localhost:8080/"
        },
        "id": "Yvt10p8YdVtg",
        "outputId": "e52d3408-9a0b-4566-e598-59dcc26e1b04"
      },
      "source": [
        "prep1_data.columns"
      ],
      "execution_count": null,
      "outputs": [
        {
          "output_type": "execute_result",
          "data": {
            "text/plain": [
              "Index(['Скважина', 'Лабораторный номер образца', 'Водонасыщенность, %',\n",
              "       'Капиллярное давление, МПа'],\n",
              "      dtype='object')"
            ]
          },
          "metadata": {
            "tags": []
          },
          "execution_count": 9
        }
      ]
    },
    {
      "cell_type": "markdown",
      "metadata": {
        "id": "uh5c__vmefob"
      },
      "source": [
        "## Заполним NaN-значения в атрибуте \"Лабораторный номер образца\", для того, чтобы кривые капилярного давления характеризовались уникальным ключом."
      ]
    },
    {
      "cell_type": "code",
      "metadata": {
        "id": "nXkzDELXfARW"
      },
      "source": [
        "prep1_data = prep1_data[pd.notna(prep1_data['Скважина']) == True]"
      ],
      "execution_count": null,
      "outputs": []
    },
    {
      "cell_type": "code",
      "metadata": {
        "id": "BYQPbFmRk2DL"
      },
      "source": [
        "prep2_data = prep1_data.copy()\n",
        "prep2_data.reset_index(inplace = True)"
      ],
      "execution_count": null,
      "outputs": []
    },
    {
      "cell_type": "code",
      "metadata": {
        "id": "fkCDDUG2fxiI"
      },
      "source": [
        "for i in range(len(prep2_data) - 1):\n",
        "  if prep2_data['Скважина'][i] == prep2_data['Скважина'][i + 1] and pd.notna(prep2_data['Лабораторный номер образца'][i + 1]) is False:\n",
        "    prep2_data['Лабораторный номер образца'][i + 1] = prep2_data['Лабораторный номер образца'][i]\n",
        "  else:\n",
        "    continue"
      ],
      "execution_count": null,
      "outputs": []
    },
    {
      "cell_type": "code",
      "metadata": {
        "id": "UxstcKJ1qc0n"
      },
      "source": [
        "prep2_data.drop(['index'], axis=1, inplace = True)"
      ],
      "execution_count": null,
      "outputs": []
    },
    {
      "cell_type": "markdown",
      "metadata": {
        "id": "ItAJs3gklO4Q"
      },
      "source": [
        "## Проверим корректность заполнения"
      ]
    },
    {
      "cell_type": "code",
      "metadata": {
        "id": "yorXFq0vlDSo"
      },
      "source": [
        "prep2_data.head(13) # видим, что всё корректно"
      ],
      "execution_count": null,
      "outputs": []
    },
    {
      "cell_type": "code",
      "metadata": {
        "id": "BAy54Qe3lSvt"
      },
      "source": [
        "prep2_data[130:150] # видим, что всё корректно"
      ],
      "execution_count": null,
      "outputs": []
    },
    {
      "cell_type": "markdown",
      "metadata": {
        "id": "_gVSIMtplhUs"
      },
      "source": [
        "## Далее займёмся непосредственным подбором параметров модели. Сделаем это на примере первого образца 33874-07, потом подход распространим на остальные образцы"
      ]
    },
    {
      "cell_type": "code",
      "metadata": {
        "id": "MM_71qP4o9uv"
      },
      "source": [
        "fst_sample = prep2_data[prep2_data['Лабораторный номер образца'] == '33874-07']\n",
        "fst_sample"
      ],
      "execution_count": null,
      "outputs": []
    },
    {
      "cell_type": "code",
      "metadata": {
        "colab": {
          "base_uri": "https://localhost:8080/",
          "height": 435
        },
        "id": "vdcuB0aprTFz",
        "outputId": "4d850521-3c70-41ad-e4d3-05cd6f43cde1"
      },
      "source": [
        "fig, ax = plt.subplots(1, 1, figsize = (8, 6))\n",
        "\n",
        "fig.suptitle('Данные капиллярометрии', fontsize = 16)\n",
        "\n",
        "ax.set_xlabel('Водонасыщенность, %', fontsize = 14)\n",
        "ax.set_ylabel('Капиллярное давление, МПа', fontsize = 14)\n",
        "ax.semilogy(fst_sample['Водонасыщенность, %'], fst_sample['Капиллярное давление, МПа'], 'o-')\n",
        "plt.show()"
      ],
      "execution_count": null,
      "outputs": [
        {
          "output_type": "display_data",
          "data": {
            "image/png": "[encoded data removed]",
            "text/plain": [
              "<Figure size 576x432 with 1 Axes>"
            ]
          },
          "metadata": {
            "tags": [],
            "needs_background": "light"
          }
        }
      ]
    },
    {
      "cell_type": "markdown",
      "metadata": {
        "id": "wUL9MNA2fbAS"
      },
      "source": [
        "## Модель Брукса-Кори представляет собой уравнение вида:<p>\n",
        "$$ S_w = S_{wi} + (1 + S_{wi})( \\frac{P_d}{P_C} )^{(\\frac1n)}\\ , где $$\n",
        "<p>\n",
        "$$ S_w - замеренная водонасыщенность, д. ед. $$\n",
        "$$ S_{wi} - остаточная водонасыщенность, д. ед. $$\n",
        "$$ P_d - входное капиллярное давление, МПа $$\n",
        "$$ P_С - замеренное капиллярное давление, P_C > P_d, МПа $$\n",
        "\n",
        "### Наша задача - оценить параметры  Swi, Pd и n.<p>\n",
        "### Swi, Pd найдём из гарфика, n - из минимизации целевой функции (функционал невязки)."
      ]
    },
    {
      "cell_type": "code",
      "metadata": {
        "id": "IHHiSgkiet-v"
      },
      "source": [
        "fst_sample_Swi = fst_sample['Водонасыщенность, %'].iloc[-1]"
      ],
      "execution_count": null,
      "outputs": []
    },
    {
      "cell_type": "markdown",
      "metadata": {
        "id": "M0chAK_Lm2cL"
      },
      "source": [
        "## Pd найдём из условия точки излома. Оно определяется неравенством правых и левых пределов производной функции в точке.\n",
        "## Но добиться строгого равенства на дискретном наборе данных не получится, иными словами из исходного условия все точки становятся изломными\n",
        "## Мы огрубим это условие, сделав его условием максимума модуля второй производной (ускорения роста функции) при условии, что аргумент Sw данного максимума не меньше 90%"
      ]
    },
    {
      "cell_type": "code",
      "metadata": {
        "id": "-E0_ZNMxVi89"
      },
      "source": [
        "p_interp_fstsm = np.linspace(np.log10(fst_sample['Капиллярное давление, МПа'].values.min()), np.log10(fst_sample['Капиллярное давление, МПа'].values.max()), 20)"
      ],
      "execution_count": null,
      "outputs": []
    },
    {
      "cell_type": "code",
      "metadata": {
        "id": "ZL7etBifah6u"
      },
      "source": [
        "sw_interp_fstsm = interpolate.PchipInterpolator(np.log10(fst_sample['Капиллярное давление, МПа'].values),  fst_sample['Водонасыщенность, %'].values)"
      ],
      "execution_count": null,
      "outputs": []
    },
    {
      "cell_type": "code",
      "metadata": {
        "id": "yIgxZFHFah9A"
      },
      "source": [
        "def snd_deriv (p, Sw ):\n",
        "  return (np.diff ( np.diff(Sw(p) ) / np.diff(p) )) / np.diff ( p  ) [:-1]"
      ],
      "execution_count": null,
      "outputs": []
    },
    {
      "cell_type": "code",
      "metadata": {
        "id": "LIUE76Koaq0c"
      },
      "source": [
        "abs_snd_deriv = np.abs(snd_deriv(p_interp_fstsm, sw_interp_fstsm))\n",
        "\n",
        "for i in range(2):\n",
        "  condition = np.where(abs_snd_deriv == abs_snd_deriv.max())[0][0]\n",
        "  ind_break = condition + 1\n",
        "  comp_val = sw_interp_fstsm(p_interp_fstsm)[ind_break]\n",
        "\n",
        "  if comp_val < 90:\n",
        "    np.delete(abs_snd_deriv, condition)\n",
        "  else:\n",
        "    break"
      ],
      "execution_count": null,
      "outputs": []
    },
    {
      "cell_type": "code",
      "metadata": {
        "id": "2xcF4851aq2p"
      },
      "source": [
        "Abs_delta_regular = np.abs(fst_sample['Водонасыщенность, %'] - comp_val)\n",
        "Pd_ind = np.where(Abs_delta_regular == Abs_delta_regular.min())[0][0]\n",
        "fst_sample_Pd = fst_sample['Капиллярное давление, МПа'][Pd_ind]"
      ],
      "execution_count": null,
      "outputs": []
    },
    {
      "cell_type": "code",
      "metadata": {
        "colab": {
          "base_uri": "https://localhost:8080/"
        },
        "id": "hDgmVVnDhhGL",
        "outputId": "60e88f68-96e6-42c5-913e-4683ac9ba5cd"
      },
      "source": [
        "print('Pd = {0}, Swi = {1}'.format(fst_sample_Pd, fst_sample_Swi))"
      ],
      "execution_count": null,
      "outputs": [
        {
          "output_type": "stream",
          "text": [
            "Pd = 0.05, Swi = 43.16294519283995\n"
          ],
          "name": "stdout"
        }
      ]
    },
    {
      "cell_type": "markdown",
      "metadata": {
        "id": "X3MsHjffiNq5"
      },
      "source": [
        "## Далее у нас два пути: минимизация одним из методов-вариаций градиентного спуска: <p>\n",
        "$$ \n",
        "\\operatorname*{arg\\, min}_n \n",
        " \\sum_{k = 1}^{M} (S_{w_k} - S_{wi} - (1 + S_{wi})( \\frac{P_d}{P_{C_k}} )^{(\\frac1n)}\\ )^2 $$\n",
        "## Или же решение СЛАУ, получаемого логарифмированием исходного выражения:\n",
        "$$ lg(S_w - S_{wi}) - lg(1 + S_{wi}) = {\\frac1n}(lgP_d - lgP_C) $$\n",
        "## Примечание: с путём 2 вышла проблема, поэтому он был оставлен на дополнительное рассмотрение позднее"
      ]
    },
    {
      "cell_type": "markdown",
      "metadata": {
        "id": "if5ti2_qo4_5"
      },
      "source": [
        "### Путь первый"
      ]
    },
    {
      "cell_type": "markdown",
      "metadata": {
        "id": "ijiTg2GbaWwX"
      },
      "source": [
        "Отберём интервалы, для которых будем производить подбор модели. Оставшиеся значения будем аппроксимировать 100% водонасыщенностью"
      ]
    },
    {
      "cell_type": "code",
      "metadata": {
        "id": "Vh-SFkfnNbZr"
      },
      "source": [
        "approx_Sw = fst_sample['Водонасыщенность, %'][fst_sample['Водонасыщенность, %'] < fst_sample['Водонасыщенность, %'][Pd_ind]].values / 100"
      ],
      "execution_count": null,
      "outputs": []
    },
    {
      "cell_type": "code",
      "metadata": {
        "id": "aooIPuCuP988"
      },
      "source": [
        "approx_Pc = fst_sample['Капиллярное давление, МПа'][fst_sample['Капиллярное давление, МПа'] > fst_sample['Капиллярное давление, МПа'][Pd_ind]].values"
      ],
      "execution_count": null,
      "outputs": []
    },
    {
      "cell_type": "code",
      "metadata": {
        "colab": {
          "base_uri": "https://localhost:8080/"
        },
        "id": "Evto9cL9ReH9",
        "outputId": "23d47c72-9385-4feb-9855-4dd24ebddffc"
      },
      "source": [
        "approx_Pc"
      ],
      "execution_count": null,
      "outputs": [
        {
          "output_type": "execute_result",
          "data": {
            "text/plain": [
              "array([0.1, 0.2, 0.4, 0.7, 1.2])"
            ]
          },
          "metadata": {
            "tags": []
          },
          "execution_count": 181
        }
      ]
    },
    {
      "cell_type": "code",
      "metadata": {
        "colab": {
          "base_uri": "https://localhost:8080/"
        },
        "id": "kEe4zZYVReLN",
        "outputId": "ce715720-8443-4f0c-e94b-145ca3199030"
      },
      "source": [
        "approx_Sw"
      ],
      "execution_count": null,
      "outputs": [
        {
          "output_type": "execute_result",
          "data": {
            "text/plain": [
              "array([0.85181768, 0.72042812, 0.60527773, 0.51282524, 0.43162945])"
            ]
          },
          "metadata": {
            "tags": []
          },
          "execution_count": 182
        }
      ]
    },
    {
      "cell_type": "markdown",
      "metadata": {
        "id": "4hRioknQali2"
      },
      "source": [
        "Определим целевую функцию для минимизации"
      ]
    },
    {
      "cell_type": "code",
      "metadata": {
        "id": "7O3DR6kFo4Pp"
      },
      "source": [
        "def target_func(n):\n",
        "  return np.sum(np.power(approx_Sw - fst_sample_Swi / 100 - (1 + fst_sample_Swi / 100) * np.power( (fst_sample_Pd / approx_Pc), 1/n ), 2))"
      ],
      "execution_count": null,
      "outputs": []
    },
    {
      "cell_type": "markdown",
      "metadata": {
        "id": "_2nQEp6aapnm"
      },
      "source": [
        "Найдём точку минимума"
      ]
    },
    {
      "cell_type": "code",
      "metadata": {
        "colab": {
          "base_uri": "https://localhost:8080/"
        },
        "id": "ciPB7N_fhhMC",
        "outputId": "adad4507-e973-43b1-d9e3-ce00b048b990"
      },
      "source": [
        "%%time\n",
        "minimized_target = minimize(target_func, 0.1, method = 'COBYLA')\n",
        "minimized_target"
      ],
      "execution_count": null,
      "outputs": [
        {
          "output_type": "stream",
          "text": [
            "CPU times: user 1.89 ms, sys: 0 ns, total: 1.89 ms\n",
            "Wall time: 1.89 ms\n"
          ],
          "name": "stdout"
        }
      ]
    },
    {
      "cell_type": "code",
      "metadata": {
        "colab": {
          "base_uri": "https://localhost:8080/"
        },
        "id": "j0-28hULSGwl",
        "outputId": "ffe7af62-46aa-46f2-a179-9a340312b7e2"
      },
      "source": [
        "minimized_target"
      ],
      "execution_count": null,
      "outputs": [
        {
          "output_type": "execute_result",
          "data": {
            "text/plain": [
              "     fun: 0.033361389891044195\n",
              "   maxcv: 0.0\n",
              " message: 'Optimization terminated successfully.'\n",
              "    nfev: 24\n",
              "  status: 1\n",
              " success: True\n",
              "       x: array(0.70624531)"
            ]
          },
          "metadata": {
            "tags": []
          },
          "execution_count": 186
        }
      ]
    },
    {
      "cell_type": "code",
      "metadata": {
        "id": "sVbgJb6uR7Pc"
      },
      "source": [
        "n_calc = minimized_target['x']"
      ],
      "execution_count": null,
      "outputs": []
    },
    {
      "cell_type": "markdown",
      "metadata": {
        "id": "SO4CvxKfasOW"
      },
      "source": [
        "Объединим интервал аппроксимации с интервалом, содержащим 100% водонасыщенность"
      ]
    },
    {
      "cell_type": "code",
      "metadata": {
        "id": "HwzEKaYXwACL"
      },
      "source": [
        "Sw_calc = []\n",
        "Hundreds = list(np.ones(len(fst_sample['Капиллярное давление, МПа'][fst_sample['Капиллярное давление, МПа'] <= fst_sample['Капиллярное давление, МПа'][Pd_ind]].values)))\n",
        "Sw_calc.append( \n",
        "    list(fst_sample_Swi/100 + (1 + fst_sample_Swi/100) * np.power( fst_sample_Pd / approx_Pc, 1/n_calc))\n",
        "    )\n",
        "Sw_calc.insert(0, Hundreds)\n",
        "Sw_calc = np.array(Sw_calc[0] + Sw_calc[1])"
      ],
      "execution_count": null,
      "outputs": []
    },
    {
      "cell_type": "code",
      "metadata": {
        "colab": {
          "base_uri": "https://localhost:8080/"
        },
        "id": "OjguHfHCUIGn",
        "outputId": "c3faad7f-5d2e-41a3-904c-eb05e55bc225"
      },
      "source": [
        "Sw_calc"
      ],
      "execution_count": null,
      "outputs": [
        {
          "output_type": "execute_result",
          "data": {
            "text/plain": [
              "array([1.        , 1.        , 1.        , 1.        , 1.        ,\n",
              "       1.        , 0.96815528, 0.63270101, 0.50698421, 0.46574746,\n",
              "       0.44753455])"
            ]
          },
          "metadata": {
            "tags": []
          },
          "execution_count": 192
        }
      ]
    },
    {
      "cell_type": "markdown",
      "metadata": {
        "id": "Bj4wCsQNbU0o"
      },
      "source": [
        "График"
      ]
    },
    {
      "cell_type": "code",
      "metadata": {
        "colab": {
          "base_uri": "https://localhost:8080/",
          "height": 435
        },
        "id": "cp6YXrUVs-DJ",
        "outputId": "ae525bf0-0270-4d46-e7a4-b73d60e98a18"
      },
      "source": [
        "fig, ax = plt.subplots(1, 1, figsize = (8, 6))\n",
        "\n",
        "fig.suptitle('Данные капиллярометрии, скважина № {0}, образец № {1}'.format(fst_sample['Скважина'].unique()[0], fst_sample['Лабораторный номер образца'].unique()[0]), fontsize = 16)\n",
        "\n",
        "ax.set_xlabel('Водонасыщенность, %', fontsize = 14)\n",
        "ax.set_ylabel('Капиллярное давление, МПа', fontsize = 14)\n",
        "ax.semilogy(fst_sample['Водонасыщенность, %'], fst_sample['Капиллярное давление, МПа'], 'go-', label = 'Исходный замер')\n",
        "ax.semilogy(Sw_calc*100, fst_sample['Капиллярное давление, МПа'], 'r*-', label = 'Подобранная модель')\n",
        "ax.legend()\n",
        "plt.show()"
      ],
      "execution_count": null,
      "outputs": [
        {
          "output_type": "display_data",
          "data": {
            "image/png": "[encoded data removed]",
            "text/plain": [
              "<Figure size 576x432 with 1 Axes>"
            ]
          },
          "metadata": {
            "tags": [],
            "needs_background": "light"
          }
        }
      ]
    },
    {
      "cell_type": "markdown",
      "metadata": {
        "id": "ZDLYYArTqEgr"
      },
      "source": [
        "## Теперь распространим решение на остальные кривые"
      ]
    },
    {
      "cell_type": "code",
      "metadata": {
        "id": "VZEvA4FRId0Q"
      },
      "source": [
        "Swi = {}\n",
        "Pd = {}\n",
        "n = {} # хэш-таблицы записи параметров\n",
        "Sw_estim = {} # хэш таблица записи рассчитанного Sw"
      ],
      "execution_count": null,
      "outputs": []
    },
    {
      "cell_type": "code",
      "metadata": {
        "id": "E1ab162ysFXO"
      },
      "source": [
        "filt_Sw = 'Водонасыщенность, %'\n",
        "filt_Pc = 'Капиллярное давление, МПа' # глобальные фильтры"
      ],
      "execution_count": null,
      "outputs": []
    },
    {
      "cell_type": "markdown",
      "metadata": {
        "id": "8KQH62x8meVU"
      },
      "source": [
        "### Определение параметров Swi, Pd и n"
      ]
    },
    {
      "cell_type": "code",
      "metadata": {
        "id": "2aryupeNJvLB"
      },
      "source": [
        "for sample in prep2_data['Лабораторный номер образца'].unique():\n",
        "  \n",
        "  filt_sample = prep2_data['Лабораторный номер образца'] == sample # фильтр по скважине\n",
        "\n",
        "  ##### ОПРЕДЕЛЕНИЕ ПАРАМЕТРА Swi #####\n",
        "\n",
        "  Swi[sample] = prep2_data[ filt_sample ][filt_Sw].values[-1] # определение Swi\n",
        "  \n",
        "\n",
        "  ##### ОПРЕДЕЛЕНИЕ ПАРАМЕТРА Pd #####\n",
        "\n",
        "  p_interp = np.linspace(\n",
        "      np.log10(prep2_data[ filt_sample ][ filt_Pc ].values.min()),\n",
        "      np.log10(prep2_data[ filt_sample ][ filt_Pc ].values.max()), 20\n",
        "      ) # регулярная сетка давлений\n",
        "  sw_interp = interpolate.PchipInterpolator(\n",
        "      np.log10(prep2_data[ filt_sample ][ filt_Pc ].values), \n",
        "      prep2_data[ filt_sample ][ filt_Sw ].values\n",
        "      ) # интерполяция значений насыщенности\n",
        "\n",
        "  abs_snd_der = np.abs(snd_deriv(p_interp, sw_interp)) # абсолютные значения второй производной интерполированной функции\n",
        "\n",
        "  for i in range(len(abs_snd_der)):\n",
        "    condit = np.where(abs_snd_der == abs_snd_der.max())[0][0]\n",
        "    ind_brk = condit + 1\n",
        "    Sw_in_Pd_val = sw_interp(p_interp)[ind_brk] # выбор насыщенности в точке Pd\n",
        "\n",
        "    if Sw_in_Pd_val < 90:\n",
        "      abs_snd_der = np.delete(abs_snd_der, condit) # если меньше 90, то отбрасываем (нефизично)\n",
        "    else:\n",
        "      break\n",
        "  \n",
        "  Abs_delta_reg = np.abs(prep2_data[ filt_sample ][ filt_Sw ] - Sw_in_Pd_val)\n",
        "  # массив абсолютных разниц между истинными значениями и полученным интерполированным\n",
        "  \n",
        "  i = 0 \n",
        "  memorizer = 0\n",
        "  iterator = Abs_delta_reg.values\n",
        "  while i < len(iterator):\n",
        "    if iterator[i] == iterator[i + 1]:\n",
        "      iterator = np.delete(iterator, i)\n",
        "      memorizer += 1\n",
        "      continue # пропускаем участки с равными значениями насыщенности, чтобы произошло корректное присвоение значения капиллярного давления\n",
        "\n",
        "    Pd_index = np.where(iterator == iterator.min())[0][0] + memorizer # индекс выбираем из условия минимальной разницы по модулю между истинными и полученным из интерполяции значением\n",
        "    \n",
        "    if prep2_data[ filt_sample ][ filt_Sw ].values[Pd_index] < 90:\n",
        "      iterator = np.delete(iterator, Pd_index - memorizer)\n",
        "      Pd_index = np.where(iterator == iterator.min())[0][0] + memorizer\n",
        "      break\n",
        "\n",
        "    break\n",
        "\n",
        "  Pd[sample] = prep2_data[ filt_sample ][ filt_Pc ].values[Pd_index] # получаем значение Pd\n",
        "\n",
        "  if sample == '3658/12':\n",
        "    Pd_index += 1\n",
        "    Pd[sample] = prep2_data[ filt_sample ][ filt_Pc ].values[Pd_index] # аномальный образец\n",
        "\n",
        "  ##### ОПРЕДЕЛЕНИЕ ПАРАМЕТРА n #####\n",
        "\n",
        "  approx_Sw = prep2_data[ filt_Sw ][ filt_sample ][ prep2_data[ filt_sample ][ filt_Sw ] < prep2_data[ filt_sample ] [ filt_Sw ].values[Pd_index] ].values / 100 # выбор интервала подбора модели по Sw\n",
        "  approx_Pc = prep2_data[ filt_Pc ][ filt_sample ][ prep2_data[ filt_sample ][ filt_Pc ] > prep2_data[ filt_sample ] [ filt_Pc ].values[Pd_index]].values # выбор интервала подбора модели по Pc\n",
        "\n",
        "  def target_func(n):\n",
        "    return np.sum(np.power(approx_Sw - Swi[sample] / 100 - (1 + Swi[sample] / 100) * np.power( (Pd[sample] / approx_Pc), 1 / n ), 2)) # создание целевой функции для подбора n\n",
        "  \n",
        "  minimized_target = minimize(target_func, 1)\n",
        "  n[sample] = minimized_target['x'] # нахождение минимума по n\n",
        "\n",
        "  Sw_estim[sample] = []\n",
        "  \n",
        "  Ones = list(\n",
        "      np.ones(\n",
        "          len(\n",
        "              prep2_data[ filt_sample ][ filt_Pc ] [ prep2_data[ filt_sample ][ filt_Pc ] <= prep2_data[ filt_sample ][ filt_Pc ].values[Pd_index] ].values\n",
        "              )\n",
        "          )\n",
        "      ) # создание интервала единиц (в области, где аппроксимация не проводилась)\n",
        "  \n",
        "  Sw_estim[sample].append( \n",
        "      list(\n",
        "          Swi[sample] / 100 + (1 + Swi[sample] / 100) * np.power( (Pd[sample] / approx_Pc), 1/n[sample])\n",
        "          )\n",
        "      ) # добавление рассчитанных значений Sw\n",
        "  \n",
        "  Sw_estim[sample].insert(0, Ones)\n",
        "  Sw_estim[sample] = np.array(Sw_estim[sample][0] + Sw_estim[sample][1]) # объединение расчётного интервала и интервала с единицами"
      ],
      "execution_count": null,
      "outputs": []
    },
    {
      "cell_type": "markdown",
      "metadata": {
        "id": "cWcT18eqm6I1"
      },
      "source": [
        "Графики"
      ]
    },
    {
      "cell_type": "code",
      "metadata": {
        "colab": {
          "base_uri": "https://localhost:8080/",
          "height": 469
        },
        "id": "qs8er6aHOb74",
        "outputId": "22294371-bab3-42b0-d5a5-418e7bfd810c"
      },
      "source": [
        "fig, ax = plt.subplots(1, 1, figsize = (8, 6))\n",
        "\n",
        "key_correction = False\n",
        "\n",
        "while key_correction is False:\n",
        "  well_name = input('Введите номер скважины: ')\n",
        "  sample_number = input('Введите номер образца: ')\n",
        "\n",
        "  if well_name in [str(el) for el in prep2_data['Скважина'].unique()] and sample_number in prep2_data['Лабораторный номер образца'].unique():\n",
        "    if str(prep2_data['Скважина'][prep2_data['Лабораторный номер образца'] == sample_number].unique()[0]) == well_name:\n",
        "      key_correction = True\n",
        "    else:\n",
        "      print('Такого сочетания \"образец-скважина\" не существует!')\n",
        "      key_correction = False\n",
        "  else:\n",
        "    print('Такой скважины или образца не существует!')\n",
        "    key_correction = False\n",
        "\n",
        "fig.suptitle('Данные капиллярометрии, скважина № {0}, образец № {1}'.format(well_name, sample_number), fontsize = 16)\n",
        "\n",
        "ax.set_xlabel('Водонасыщенность, %', fontsize = 14)\n",
        "ax.set_ylabel('Капиллярное давление, МПа', fontsize = 14)\n",
        "\n",
        "ax.semilogy(prep2_data[prep2_data['Лабораторный номер образца'].astype('string') == sample_number]['Водонасыщенность, %'], prep2_data[prep2_data['Лабораторный номер образца'].astype('string') == sample_number]['Капиллярное давление, МПа'], 'go-', label = 'Исходный замер')\n",
        "ax.semilogy(Sw_estim[sample_number]*100, prep2_data[prep2_data['Лабораторный номер образца'].astype('string') == sample_number]['Капиллярное давление, МПа'], 'r*-', label = 'Подобранная модель')\n",
        "\n",
        "ax.legend()\n",
        "\n",
        "plt.show()"
      ],
      "execution_count": null,
      "outputs": [
        {
          "output_type": "stream",
          "text": [
            "Введите номер скважины: 8437\n",
            "Введите номер образца: 2601/13\n"
          ],
          "name": "stdout"
        },
        {
          "output_type": "display_data",
          "data": {
            "image/png": "[encoded data removed]",
            "text/plain": [
              "<Figure size 576x432 with 1 Axes>"
            ]
          },
          "metadata": {
            "tags": [],
            "needs_background": "light"
          }
        }
      ]
    }
  ]
}